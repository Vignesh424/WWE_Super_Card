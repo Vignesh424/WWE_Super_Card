{
  "nbformat": 4,
  "nbformat_minor": 0,
  "metadata": {
    "colab": {
      "name": "WWE_SuperCard_Logistic_Regression.ipynb",
      "provenance": [],
      "collapsed_sections": [],
      "authorship_tag": "ABX9TyPmKFCEJKb6n99dFiP4G4fS",
      "include_colab_link": true
    },
    "kernelspec": {
      "name": "python3",
      "display_name": "Python 3"
    },
    "language_info": {
      "name": "python"
    }
  },
  "cells": [
    {
      "cell_type": "markdown",
      "metadata": {
        "id": "view-in-github",
        "colab_type": "text"
      },
      "source": [
        "<a href=\"https://colab.research.google.com/github/Vignesh424/WWE_Super_Card/blob/main/WWE_SuperCard_Logistic_Regression.ipynb\" target=\"_parent\"><img src=\"https://colab.research.google.com/assets/colab-badge.svg\" alt=\"Open In Colab\"/></a>"
      ]
    },
    {
      "cell_type": "code",
      "metadata": {
        "id": "iY51oaHminWU"
      },
      "source": [
        "#import libraries\n",
        "import pandas as pd\n",
        "import numpy as np"
      ],
      "execution_count": 326,
      "outputs": []
    },
    {
      "cell_type": "code",
      "metadata": {
        "id": "OdJJZUEOipA-"
      },
      "source": [
        "#read data\n",
        "data=pd.read_excel('/content/WWE Super Card.xlsx')"
      ],
      "execution_count": 327,
      "outputs": []
    },
    {
      "cell_type": "code",
      "metadata": {
        "colab": {
          "base_uri": "https://localhost:8080/"
        },
        "id": "hr0NTvKSizkn",
        "outputId": "9d268ac6-dd62-4428-e2fa-adac31ceaf68"
      },
      "source": [
        "#shape of data\n",
        "data.shape"
      ],
      "execution_count": 328,
      "outputs": [
        {
          "output_type": "execute_result",
          "data": {
            "text/plain": [
              "(220, 8)"
            ]
          },
          "metadata": {
            "tags": []
          },
          "execution_count": 328
        }
      ]
    },
    {
      "cell_type": "code",
      "metadata": {
        "colab": {
          "base_uri": "https://localhost:8080/",
          "height": 297
        },
        "id": "bK0I41MCi1UA",
        "outputId": "022f981b-de04-4cb9-cd48-3eacbabbe35d"
      },
      "source": [
        "#data description\n",
        "data.describe().round()"
      ],
      "execution_count": 329,
      "outputs": [
        {
          "output_type": "execute_result",
          "data": {
            "text/html": [
              "<div>\n",
              "<style scoped>\n",
              "    .dataframe tbody tr th:only-of-type {\n",
              "        vertical-align: middle;\n",
              "    }\n",
              "\n",
              "    .dataframe tbody tr th {\n",
              "        vertical-align: top;\n",
              "    }\n",
              "\n",
              "    .dataframe thead th {\n",
              "        text-align: right;\n",
              "    }\n",
              "</style>\n",
              "<table border=\"1\" class=\"dataframe\">\n",
              "  <thead>\n",
              "    <tr style=\"text-align: right;\">\n",
              "      <th></th>\n",
              "      <th>POW</th>\n",
              "      <th>TGH</th>\n",
              "      <th>SPD</th>\n",
              "      <th>CHA</th>\n",
              "      <th>Total</th>\n",
              "    </tr>\n",
              "  </thead>\n",
              "  <tbody>\n",
              "    <tr>\n",
              "      <th>count</th>\n",
              "      <td>220.0</td>\n",
              "      <td>220.0</td>\n",
              "      <td>220.0</td>\n",
              "      <td>220.0</td>\n",
              "      <td>220.0</td>\n",
              "    </tr>\n",
              "    <tr>\n",
              "      <th>mean</th>\n",
              "      <td>271.0</td>\n",
              "      <td>270.0</td>\n",
              "      <td>270.0</td>\n",
              "      <td>270.0</td>\n",
              "      <td>1081.0</td>\n",
              "    </tr>\n",
              "    <tr>\n",
              "      <th>std</th>\n",
              "      <td>64.0</td>\n",
              "      <td>64.0</td>\n",
              "      <td>65.0</td>\n",
              "      <td>64.0</td>\n",
              "      <td>257.0</td>\n",
              "    </tr>\n",
              "    <tr>\n",
              "      <th>min</th>\n",
              "      <td>182.0</td>\n",
              "      <td>179.0</td>\n",
              "      <td>180.0</td>\n",
              "      <td>178.0</td>\n",
              "      <td>727.0</td>\n",
              "    </tr>\n",
              "    <tr>\n",
              "      <th>25%</th>\n",
              "      <td>193.0</td>\n",
              "      <td>191.0</td>\n",
              "      <td>190.0</td>\n",
              "      <td>191.0</td>\n",
              "      <td>759.0</td>\n",
              "    </tr>\n",
              "    <tr>\n",
              "      <th>50%</th>\n",
              "      <td>270.0</td>\n",
              "      <td>270.0</td>\n",
              "      <td>269.0</td>\n",
              "      <td>269.0</td>\n",
              "      <td>1077.0</td>\n",
              "    </tr>\n",
              "    <tr>\n",
              "      <th>75%</th>\n",
              "      <td>344.0</td>\n",
              "      <td>344.0</td>\n",
              "      <td>343.0</td>\n",
              "      <td>344.0</td>\n",
              "      <td>1378.0</td>\n",
              "    </tr>\n",
              "    <tr>\n",
              "      <th>max</th>\n",
              "      <td>353.0</td>\n",
              "      <td>354.0</td>\n",
              "      <td>351.0</td>\n",
              "      <td>354.0</td>\n",
              "      <td>1400.0</td>\n",
              "    </tr>\n",
              "  </tbody>\n",
              "</table>\n",
              "</div>"
            ],
            "text/plain": [
              "         POW    TGH    SPD    CHA   Total\n",
              "count  220.0  220.0  220.0  220.0   220.0\n",
              "mean   271.0  270.0  270.0  270.0  1081.0\n",
              "std     64.0   64.0   65.0   64.0   257.0\n",
              "min    182.0  179.0  180.0  178.0   727.0\n",
              "25%    193.0  191.0  190.0  191.0   759.0\n",
              "50%    270.0  270.0  269.0  269.0  1077.0\n",
              "75%    344.0  344.0  343.0  344.0  1378.0\n",
              "max    353.0  354.0  351.0  354.0  1400.0"
            ]
          },
          "metadata": {
            "tags": []
          },
          "execution_count": 329
        }
      ]
    },
    {
      "cell_type": "code",
      "metadata": {
        "colab": {
          "base_uri": "https://localhost:8080/",
          "height": 204
        },
        "id": "dRLDmXIai3bd",
        "outputId": "a5cb4a35-4d9f-45ef-932a-ddb38255d19f"
      },
      "source": [
        "#first 5 columns of data\n",
        "data.head()"
      ],
      "execution_count": 330,
      "outputs": [
        {
          "output_type": "execute_result",
          "data": {
            "text/html": [
              "<div>\n",
              "<style scoped>\n",
              "    .dataframe tbody tr th:only-of-type {\n",
              "        vertical-align: middle;\n",
              "    }\n",
              "\n",
              "    .dataframe tbody tr th {\n",
              "        vertical-align: top;\n",
              "    }\n",
              "\n",
              "    .dataframe thead th {\n",
              "        text-align: right;\n",
              "    }\n",
              "</style>\n",
              "<table border=\"1\" class=\"dataframe\">\n",
              "  <thead>\n",
              "    <tr style=\"text-align: right;\">\n",
              "      <th></th>\n",
              "      <th>Superstar</th>\n",
              "      <th>Gender</th>\n",
              "      <th>POW</th>\n",
              "      <th>TGH</th>\n",
              "      <th>SPD</th>\n",
              "      <th>CHA</th>\n",
              "      <th>Total</th>\n",
              "      <th>Group</th>\n",
              "    </tr>\n",
              "  </thead>\n",
              "  <tbody>\n",
              "    <tr>\n",
              "      <th>0</th>\n",
              "      <td>Adam Cole</td>\n",
              "      <td>Male</td>\n",
              "      <td>269.96</td>\n",
              "      <td>270.46</td>\n",
              "      <td>268.40</td>\n",
              "      <td>272.10</td>\n",
              "      <td>1080.92</td>\n",
              "      <td>WM</td>\n",
              "    </tr>\n",
              "    <tr>\n",
              "      <th>1</th>\n",
              "      <td>Akam</td>\n",
              "      <td>Male</td>\n",
              "      <td>269.85</td>\n",
              "      <td>268.93</td>\n",
              "      <td>265.62</td>\n",
              "      <td>265.29</td>\n",
              "      <td>1069.69</td>\n",
              "      <td>WM</td>\n",
              "    </tr>\n",
              "    <tr>\n",
              "      <th>2</th>\n",
              "      <td>Aleister Black</td>\n",
              "      <td>Male</td>\n",
              "      <td>269.03</td>\n",
              "      <td>271.20</td>\n",
              "      <td>269.62</td>\n",
              "      <td>267.33</td>\n",
              "      <td>1077.18</td>\n",
              "      <td>WM</td>\n",
              "    </tr>\n",
              "    <tr>\n",
              "      <th>3</th>\n",
              "      <td>Alexa Bliss</td>\n",
              "      <td>Female</td>\n",
              "      <td>268.08</td>\n",
              "      <td>265.62</td>\n",
              "      <td>269.55</td>\n",
              "      <td>267.10</td>\n",
              "      <td>1070.35</td>\n",
              "      <td>WM</td>\n",
              "    </tr>\n",
              "    <tr>\n",
              "      <th>4</th>\n",
              "      <td>Alexander Wolfe</td>\n",
              "      <td>Male</td>\n",
              "      <td>268.17</td>\n",
              "      <td>266.86</td>\n",
              "      <td>262.53</td>\n",
              "      <td>264.63</td>\n",
              "      <td>1062.19</td>\n",
              "      <td>WM</td>\n",
              "    </tr>\n",
              "  </tbody>\n",
              "</table>\n",
              "</div>"
            ],
            "text/plain": [
              "         Superstar  Gender     POW     TGH     SPD     CHA    Total Group\n",
              "0        Adam Cole    Male  269.96  270.46  268.40  272.10  1080.92    WM\n",
              "1             Akam    Male  269.85  268.93  265.62  265.29  1069.69    WM\n",
              "2   Aleister Black    Male  269.03  271.20  269.62  267.33  1077.18    WM\n",
              "3      Alexa Bliss  Female  268.08  265.62  269.55  267.10  1070.35    WM\n",
              "4  Alexander Wolfe    Male  268.17  266.86  262.53  264.63  1062.19    WM"
            ]
          },
          "metadata": {
            "tags": []
          },
          "execution_count": 330
        }
      ]
    },
    {
      "cell_type": "markdown",
      "metadata": {
        "id": "LgnK_whbjLCQ"
      },
      "source": [
        "**Data Preparation**"
      ]
    },
    {
      "cell_type": "code",
      "metadata": {
        "id": "vPVwN34Yi5WX"
      },
      "source": [
        "X=data.iloc[:,2:7].values\n",
        "Y=data.iloc[:,1].values"
      ],
      "execution_count": 331,
      "outputs": []
    },
    {
      "cell_type": "code",
      "metadata": {
        "colab": {
          "base_uri": "https://localhost:8080/"
        },
        "id": "zMyysDMbjXvb",
        "outputId": "87803d58-a072-4290-a68a-2e856c386aab"
      },
      "source": [
        "X"
      ],
      "execution_count": 332,
      "outputs": [
        {
          "output_type": "execute_result",
          "data": {
            "text/plain": [
              "array([[ 269.96,  270.46,  268.4 ,  272.1 , 1080.92],\n",
              "       [ 269.85,  268.93,  265.62,  265.29, 1069.69],\n",
              "       [ 269.03,  271.2 ,  269.62,  267.33, 1077.18],\n",
              "       ...,\n",
              "       [ 192.68,  185.47,  189.59,  188.56,  756.3 ],\n",
              "       [ 196.35,  197.89,  187.81,  188.94,  770.99],\n",
              "       [ 192.4 ,  189.85,  186.27,  187.79,  756.31]])"
            ]
          },
          "metadata": {
            "tags": []
          },
          "execution_count": 332
        }
      ]
    },
    {
      "cell_type": "code",
      "metadata": {
        "colab": {
          "base_uri": "https://localhost:8080/"
        },
        "id": "JoYwY35ejaAz",
        "outputId": "be7e5b5d-8633-4cd6-9406-333d807340a6"
      },
      "source": [
        "Y"
      ],
      "execution_count": 333,
      "outputs": [
        {
          "output_type": "execute_result",
          "data": {
            "text/plain": [
              "array(['Male', 'Male', 'Male', 'Female', 'Male', 'Male', 'Male', 'Female',\n",
              "       'Female', 'Female', 'Female', 'Male', 'Male', 'Male', 'Male',\n",
              "       'Male', 'Female', 'Male', 'Female', 'Male', 'Male', 'Male', 'Male',\n",
              "       'Male', 'Male', 'Male', 'Male', 'Male', 'Male', 'Female', 'Female',\n",
              "       'Male', 'Male', 'Male', 'Male', 'Male', 'Male', 'Female', 'Male',\n",
              "       'Male', 'Male', 'Male', 'Male', 'Male', 'Male', 'Female', 'Male',\n",
              "       'Male', 'Male', 'Male', 'Male', 'Male', 'Female', 'Male', 'Male',\n",
              "       'Male', 'Male', 'Male', 'Male', 'Male', 'Female', 'Male', 'Male',\n",
              "       'Male', 'Male', 'Male', 'Female', 'Male', 'Male', 'Male', 'Male',\n",
              "       'Male', 'Male', 'Male', 'Female', 'Male', 'Male', 'Male', 'Male',\n",
              "       'Male', 'Female', 'Male', 'Female', 'Female', 'Male', 'Male',\n",
              "       'Male', 'Male', 'Female', 'Female', 'Male', 'Male', 'Male', 'Male',\n",
              "       'Male', 'Male', 'Male', 'Male', 'Male', 'Female', 'Male', 'Male',\n",
              "       'Male', 'Male', 'Male', 'Male', 'Male', 'Male', 'Female', 'Male',\n",
              "       'Male', 'Male', 'Male', 'Male', 'Male', 'Female', 'Male', 'Female',\n",
              "       'Female', 'Male', 'Male', 'Female', 'Male', 'Male', 'Male', 'Male',\n",
              "       'Male', 'Female', 'Male', 'Male', 'Male', 'Male', 'Female', 'Male',\n",
              "       'Female', 'Male', 'Male', 'Male', 'Male', 'Male', 'Male', 'Male',\n",
              "       'Male', 'Female', 'Male', 'Female', 'Male', 'Male', 'Male', 'Male',\n",
              "       'Male', 'Male', 'Male', 'Male', 'Male', 'Female', 'Male', 'Female',\n",
              "       'Male', 'Female', 'Female', 'Male', 'Male', 'Male', 'Male', 'Male',\n",
              "       'Male', 'Male', 'Female', 'Female', 'Male', 'Male', 'Male', 'Male',\n",
              "       'Male', 'Male', 'Male', 'Male', 'Male', 'Male', 'Female', 'Male',\n",
              "       'Male', 'Male', 'Male', 'Male', 'Male', 'Male', 'Male', 'Male',\n",
              "       'Male', 'Male', 'Male', 'Male', 'Female', 'Male', 'Male', 'Male',\n",
              "       'Male', 'Female', 'Female', 'Male', 'Male', 'Female', 'Female',\n",
              "       'Male', 'Male', 'Male', 'Female', 'Male', 'Male', 'Male', 'Male',\n",
              "       'Male', 'Female', 'Male', 'Male', 'Male', 'Male', 'Male'],\n",
              "      dtype=object)"
            ]
          },
          "metadata": {
            "tags": []
          },
          "execution_count": 333
        }
      ]
    },
    {
      "cell_type": "code",
      "metadata": {
        "id": "OhUm-kafj0x0"
      },
      "source": [
        "from sklearn.model_selection import train_test_split\n",
        "X_test, X_train, Y_test, Y_train= train_test_split(X,Y, test_size=0.3)"
      ],
      "execution_count": 334,
      "outputs": []
    },
    {
      "cell_type": "code",
      "metadata": {
        "colab": {
          "base_uri": "https://localhost:8080/"
        },
        "id": "b-ZKh07TkECi",
        "outputId": "a516e0b0-b99e-4ea4-af8c-1810e62781f8"
      },
      "source": [
        "from sklearn.linear_model import LogisticRegression\n",
        "logreg=LogisticRegression(random_state=0)\n",
        "logreg.fit(X_train, Y_train)"
      ],
      "execution_count": 335,
      "outputs": [
        {
          "output_type": "execute_result",
          "data": {
            "text/plain": [
              "LogisticRegression(C=1.0, class_weight=None, dual=False, fit_intercept=True,\n",
              "                   intercept_scaling=1, l1_ratio=None, max_iter=100,\n",
              "                   multi_class='auto', n_jobs=None, penalty='l2',\n",
              "                   random_state=0, solver='lbfgs', tol=0.0001, verbose=0,\n",
              "                   warm_start=False)"
            ]
          },
          "metadata": {
            "tags": []
          },
          "execution_count": 335
        }
      ]
    },
    {
      "cell_type": "code",
      "metadata": {
        "id": "r88NGePkkJlL"
      },
      "source": [
        "Y_pred=logreg.predict(X_test)"
      ],
      "execution_count": 336,
      "outputs": []
    },
    {
      "cell_type": "code",
      "metadata": {
        "id": "DrGMGZGlkkSM"
      },
      "source": [
        "from sklearn.metrics import*\n",
        "cm=confusion_matrix(Y_test, Y_pred)\n",
        "asc=accuracy_score(Y_test, Y_pred)\n",
        "clr=classification_report(Y_test, Y_pred)"
      ],
      "execution_count": 337,
      "outputs": []
    },
    {
      "cell_type": "code",
      "metadata": {
        "colab": {
          "base_uri": "https://localhost:8080/"
        },
        "id": "qAAI1-onlP89",
        "outputId": "9275f9dc-d0e0-4293-e440-89f727b34ace"
      },
      "source": [
        "print(\"Confusion Matrix\")\n",
        "print(cm)"
      ],
      "execution_count": 338,
      "outputs": [
        {
          "output_type": "stream",
          "text": [
            "Confusion Matrix\n",
            "[[  1  31]\n",
            " [  8 114]]\n"
          ],
          "name": "stdout"
        }
      ]
    },
    {
      "cell_type": "code",
      "metadata": {
        "colab": {
          "base_uri": "https://localhost:8080/"
        },
        "id": "a6KTbpjUlVmL",
        "outputId": "f9cea067-7bd4-4982-dc22-509a5a09928c"
      },
      "source": [
        "print(\"Accuracy Score\")\n",
        "print(asc)\n"
      ],
      "execution_count": 339,
      "outputs": [
        {
          "output_type": "stream",
          "text": [
            "Accuracy Score\n",
            "0.7467532467532467\n"
          ],
          "name": "stdout"
        }
      ]
    },
    {
      "cell_type": "code",
      "metadata": {
        "colab": {
          "base_uri": "https://localhost:8080/"
        },
        "id": "1Lef4G86lbRb",
        "outputId": "d8067721-164a-4c11-ccf4-055c0e67aaa0"
      },
      "source": [
        "print(\"Classification Report\")\n",
        "print(clr)"
      ],
      "execution_count": 340,
      "outputs": [
        {
          "output_type": "stream",
          "text": [
            "Classification Report\n",
            "              precision    recall  f1-score   support\n",
            "\n",
            "      Female       0.11      0.03      0.05        32\n",
            "        Male       0.79      0.93      0.85       122\n",
            "\n",
            "    accuracy                           0.75       154\n",
            "   macro avg       0.45      0.48      0.45       154\n",
            "weighted avg       0.65      0.75      0.69       154\n",
            "\n"
          ],
          "name": "stdout"
        }
      ]
    }
  ]
}
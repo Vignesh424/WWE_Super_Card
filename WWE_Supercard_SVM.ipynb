{
  "nbformat": 4,
  "nbformat_minor": 0,
  "metadata": {
    "colab": {
      "name": "WWE Supercard_SVM.ipynb",
      "provenance": [],
      "authorship_tag": "ABX9TyM9UH0OQSFkVIln6b3ziJ54",
      "include_colab_link": true
    },
    "kernelspec": {
      "name": "python3",
      "display_name": "Python 3"
    },
    "language_info": {
      "name": "python"
    }
  },
  "cells": [
    {
      "cell_type": "markdown",
      "metadata": {
        "id": "view-in-github",
        "colab_type": "text"
      },
      "source": [
        "<a href=\"https://colab.research.google.com/github/Vignesh424/WWE_Super_Card/blob/main/WWE_Supercard_SVM.ipynb\" target=\"_parent\"><img src=\"https://colab.research.google.com/assets/colab-badge.svg\" alt=\"Open In Colab\"/></a>"
      ]
    },
    {
      "cell_type": "code",
      "metadata": {
        "id": "6NlQSUGn64IB"
      },
      "source": [
        "import numpy as np\n",
        "import pandas as pd"
      ],
      "execution_count": 348,
      "outputs": []
    },
    {
      "cell_type": "code",
      "metadata": {
        "id": "D2O8jOi67A9B"
      },
      "source": [
        "data=pd.read_excel('/content/WWE Super Card.xlsx')"
      ],
      "execution_count": 349,
      "outputs": []
    },
    {
      "cell_type": "code",
      "metadata": {
        "colab": {
          "base_uri": "https://localhost:8080/",
          "height": 204
        },
        "id": "kvlNPmp17Fe-",
        "outputId": "baaaf66c-393c-4806-a8fb-9334e0cb1a3e"
      },
      "source": [
        "data.head()"
      ],
      "execution_count": 350,
      "outputs": [
        {
          "output_type": "execute_result",
          "data": {
            "text/html": [
              "<div>\n",
              "<style scoped>\n",
              "    .dataframe tbody tr th:only-of-type {\n",
              "        vertical-align: middle;\n",
              "    }\n",
              "\n",
              "    .dataframe tbody tr th {\n",
              "        vertical-align: top;\n",
              "    }\n",
              "\n",
              "    .dataframe thead th {\n",
              "        text-align: right;\n",
              "    }\n",
              "</style>\n",
              "<table border=\"1\" class=\"dataframe\">\n",
              "  <thead>\n",
              "    <tr style=\"text-align: right;\">\n",
              "      <th></th>\n",
              "      <th>Superstar</th>\n",
              "      <th>Gender</th>\n",
              "      <th>POW</th>\n",
              "      <th>TGH</th>\n",
              "      <th>SPD</th>\n",
              "      <th>CHA</th>\n",
              "      <th>Total</th>\n",
              "      <th>Group</th>\n",
              "    </tr>\n",
              "  </thead>\n",
              "  <tbody>\n",
              "    <tr>\n",
              "      <th>0</th>\n",
              "      <td>Adam Cole</td>\n",
              "      <td>Male</td>\n",
              "      <td>269.96</td>\n",
              "      <td>270.46</td>\n",
              "      <td>268.40</td>\n",
              "      <td>272.10</td>\n",
              "      <td>1080.92</td>\n",
              "      <td>WM</td>\n",
              "    </tr>\n",
              "    <tr>\n",
              "      <th>1</th>\n",
              "      <td>Akam</td>\n",
              "      <td>Male</td>\n",
              "      <td>269.85</td>\n",
              "      <td>268.93</td>\n",
              "      <td>265.62</td>\n",
              "      <td>265.29</td>\n",
              "      <td>1069.69</td>\n",
              "      <td>WM</td>\n",
              "    </tr>\n",
              "    <tr>\n",
              "      <th>2</th>\n",
              "      <td>Aleister Black</td>\n",
              "      <td>Male</td>\n",
              "      <td>269.03</td>\n",
              "      <td>271.20</td>\n",
              "      <td>269.62</td>\n",
              "      <td>267.33</td>\n",
              "      <td>1077.18</td>\n",
              "      <td>WM</td>\n",
              "    </tr>\n",
              "    <tr>\n",
              "      <th>3</th>\n",
              "      <td>Alexa Bliss</td>\n",
              "      <td>Female</td>\n",
              "      <td>268.08</td>\n",
              "      <td>265.62</td>\n",
              "      <td>269.55</td>\n",
              "      <td>267.10</td>\n",
              "      <td>1070.35</td>\n",
              "      <td>WM</td>\n",
              "    </tr>\n",
              "    <tr>\n",
              "      <th>4</th>\n",
              "      <td>Alexander Wolfe</td>\n",
              "      <td>Male</td>\n",
              "      <td>268.17</td>\n",
              "      <td>266.86</td>\n",
              "      <td>262.53</td>\n",
              "      <td>264.63</td>\n",
              "      <td>1062.19</td>\n",
              "      <td>WM</td>\n",
              "    </tr>\n",
              "  </tbody>\n",
              "</table>\n",
              "</div>"
            ],
            "text/plain": [
              "         Superstar  Gender     POW     TGH     SPD     CHA    Total Group\n",
              "0        Adam Cole    Male  269.96  270.46  268.40  272.10  1080.92    WM\n",
              "1             Akam    Male  269.85  268.93  265.62  265.29  1069.69    WM\n",
              "2   Aleister Black    Male  269.03  271.20  269.62  267.33  1077.18    WM\n",
              "3      Alexa Bliss  Female  268.08  265.62  269.55  267.10  1070.35    WM\n",
              "4  Alexander Wolfe    Male  268.17  266.86  262.53  264.63  1062.19    WM"
            ]
          },
          "metadata": {
            "tags": []
          },
          "execution_count": 350
        }
      ]
    },
    {
      "cell_type": "code",
      "metadata": {
        "colab": {
          "base_uri": "https://localhost:8080/",
          "height": 297
        },
        "id": "MEvCp5lh7HEM",
        "outputId": "69e8cfe8-d0b4-4e90-ee27-855ac4ebbdf6"
      },
      "source": [
        "data.describe().round()"
      ],
      "execution_count": 351,
      "outputs": [
        {
          "output_type": "execute_result",
          "data": {
            "text/html": [
              "<div>\n",
              "<style scoped>\n",
              "    .dataframe tbody tr th:only-of-type {\n",
              "        vertical-align: middle;\n",
              "    }\n",
              "\n",
              "    .dataframe tbody tr th {\n",
              "        vertical-align: top;\n",
              "    }\n",
              "\n",
              "    .dataframe thead th {\n",
              "        text-align: right;\n",
              "    }\n",
              "</style>\n",
              "<table border=\"1\" class=\"dataframe\">\n",
              "  <thead>\n",
              "    <tr style=\"text-align: right;\">\n",
              "      <th></th>\n",
              "      <th>POW</th>\n",
              "      <th>TGH</th>\n",
              "      <th>SPD</th>\n",
              "      <th>CHA</th>\n",
              "      <th>Total</th>\n",
              "    </tr>\n",
              "  </thead>\n",
              "  <tbody>\n",
              "    <tr>\n",
              "      <th>count</th>\n",
              "      <td>220.0</td>\n",
              "      <td>220.0</td>\n",
              "      <td>220.0</td>\n",
              "      <td>220.0</td>\n",
              "      <td>220.0</td>\n",
              "    </tr>\n",
              "    <tr>\n",
              "      <th>mean</th>\n",
              "      <td>271.0</td>\n",
              "      <td>270.0</td>\n",
              "      <td>270.0</td>\n",
              "      <td>270.0</td>\n",
              "      <td>1081.0</td>\n",
              "    </tr>\n",
              "    <tr>\n",
              "      <th>std</th>\n",
              "      <td>64.0</td>\n",
              "      <td>64.0</td>\n",
              "      <td>65.0</td>\n",
              "      <td>64.0</td>\n",
              "      <td>257.0</td>\n",
              "    </tr>\n",
              "    <tr>\n",
              "      <th>min</th>\n",
              "      <td>182.0</td>\n",
              "      <td>179.0</td>\n",
              "      <td>180.0</td>\n",
              "      <td>178.0</td>\n",
              "      <td>727.0</td>\n",
              "    </tr>\n",
              "    <tr>\n",
              "      <th>25%</th>\n",
              "      <td>193.0</td>\n",
              "      <td>191.0</td>\n",
              "      <td>190.0</td>\n",
              "      <td>191.0</td>\n",
              "      <td>759.0</td>\n",
              "    </tr>\n",
              "    <tr>\n",
              "      <th>50%</th>\n",
              "      <td>270.0</td>\n",
              "      <td>270.0</td>\n",
              "      <td>269.0</td>\n",
              "      <td>269.0</td>\n",
              "      <td>1077.0</td>\n",
              "    </tr>\n",
              "    <tr>\n",
              "      <th>75%</th>\n",
              "      <td>344.0</td>\n",
              "      <td>344.0</td>\n",
              "      <td>343.0</td>\n",
              "      <td>344.0</td>\n",
              "      <td>1378.0</td>\n",
              "    </tr>\n",
              "    <tr>\n",
              "      <th>max</th>\n",
              "      <td>353.0</td>\n",
              "      <td>354.0</td>\n",
              "      <td>351.0</td>\n",
              "      <td>354.0</td>\n",
              "      <td>1400.0</td>\n",
              "    </tr>\n",
              "  </tbody>\n",
              "</table>\n",
              "</div>"
            ],
            "text/plain": [
              "         POW    TGH    SPD    CHA   Total\n",
              "count  220.0  220.0  220.0  220.0   220.0\n",
              "mean   271.0  270.0  270.0  270.0  1081.0\n",
              "std     64.0   64.0   65.0   64.0   257.0\n",
              "min    182.0  179.0  180.0  178.0   727.0\n",
              "25%    193.0  191.0  190.0  191.0   759.0\n",
              "50%    270.0  270.0  269.0  269.0  1077.0\n",
              "75%    344.0  344.0  343.0  344.0  1378.0\n",
              "max    353.0  354.0  351.0  354.0  1400.0"
            ]
          },
          "metadata": {
            "tags": []
          },
          "execution_count": 351
        }
      ]
    },
    {
      "cell_type": "code",
      "metadata": {
        "colab": {
          "base_uri": "https://localhost:8080/"
        },
        "id": "CUCNMGdF7VOy",
        "outputId": "5798c88d-c616-486e-fe6c-df70a73c69cd"
      },
      "source": [
        "data.shape"
      ],
      "execution_count": 352,
      "outputs": [
        {
          "output_type": "execute_result",
          "data": {
            "text/plain": [
              "(220, 8)"
            ]
          },
          "metadata": {
            "tags": []
          },
          "execution_count": 352
        }
      ]
    },
    {
      "cell_type": "code",
      "metadata": {
        "id": "qgm_JDWk7bET"
      },
      "source": [
        "X=data.iloc[:,2:7].values\n",
        "Y=data.iloc[:,7].values"
      ],
      "execution_count": 353,
      "outputs": []
    },
    {
      "cell_type": "code",
      "metadata": {
        "colab": {
          "base_uri": "https://localhost:8080/"
        },
        "id": "vyxUA6sI7kt3",
        "outputId": "c66ce116-a461-4cfc-ef6d-b9976c7a7c21"
      },
      "source": [
        "X"
      ],
      "execution_count": 354,
      "outputs": [
        {
          "output_type": "execute_result",
          "data": {
            "text/plain": [
              "array([[ 269.96,  270.46,  268.4 ,  272.1 , 1080.92],\n",
              "       [ 269.85,  268.93,  265.62,  265.29, 1069.69],\n",
              "       [ 269.03,  271.2 ,  269.62,  267.33, 1077.18],\n",
              "       ...,\n",
              "       [ 192.68,  185.47,  189.59,  188.56,  756.3 ],\n",
              "       [ 196.35,  197.89,  187.81,  188.94,  770.99],\n",
              "       [ 192.4 ,  189.85,  186.27,  187.79,  756.31]])"
            ]
          },
          "metadata": {
            "tags": []
          },
          "execution_count": 354
        }
      ]
    },
    {
      "cell_type": "code",
      "metadata": {
        "colab": {
          "base_uri": "https://localhost:8080/"
        },
        "id": "qhSVbkbs7lhV",
        "outputId": "e933994f-cfbe-4e93-c017-9eb1dabbae22"
      },
      "source": [
        "Y"
      ],
      "execution_count": 355,
      "outputs": [
        {
          "output_type": "execute_result",
          "data": {
            "text/plain": [
              "array(['WM', 'WM', 'WM', 'WM', 'WM', 'WM', 'WM', 'WM', 'WM', 'WM', 'WM',\n",
              "       'WM', 'WM', 'WM', 'WM', 'WM', 'WM', 'WM', 'WM', 'WM', 'WM', 'WM',\n",
              "       'WM', 'WM', 'WM', 'WM', 'WM', 'WM', 'WM', 'WM', 'WM', 'WM', 'WM',\n",
              "       'WM', 'WM', 'WM', 'WM', 'WM', 'WM', 'WM', 'WM', 'WM', 'WM', 'WM',\n",
              "       'WM', 'WM', 'WM', 'WM', 'WM', 'WM', 'WM', 'WM', 'WM', 'WM', 'WM',\n",
              "       'WM', 'WM', 'WM', 'WM', 'WM', 'WM', 'WM', 'WM', 'WM', 'WM', 'WM',\n",
              "       'WM', 'WM', 'WM', 'WM', 'WM', 'WM', 'WM', 'WM', 'WM', 'Elemental',\n",
              "       'Elemental', 'Elemental', 'Elemental', 'Elemental', 'Elemental',\n",
              "       'Elemental', 'Elemental', 'Elemental', 'Elemental', 'Elemental',\n",
              "       'Elemental', 'Elemental', 'Elemental', 'Elemental', 'Elemental',\n",
              "       'Elemental', 'Elemental', 'Elemental', 'Elemental', 'Elemental',\n",
              "       'Elemental', 'Elemental', 'Elemental', 'Elemental', 'Elemental',\n",
              "       'Elemental', 'Elemental', 'Elemental', 'Elemental', 'Elemental',\n",
              "       'Elemental', 'Elemental', 'Elemental', 'Elemental', 'Elemental',\n",
              "       'Elemental', 'Elemental', 'Elemental', 'Elemental', 'Elemental',\n",
              "       'Elemental', 'Elemental', 'Elemental', 'Elemental', 'Elemental',\n",
              "       'Elemental', 'Elemental', 'Elemental', 'Elemental', 'Elemental',\n",
              "       'Elemental', 'Elemental', 'Elemental', 'Elemental', 'Elemental',\n",
              "       'Elemental', 'Elemental', 'Elemental', 'Elemental', 'Elemental',\n",
              "       'Elemental', 'Elemental', 'Elemental', 'Elemental', 'Elemental',\n",
              "       'Elemental', 'Elemental', 'Elemental', 'Elemental', 'Elemental',\n",
              "       'Elemental', 'Elemental', 'Elemental', 'Elemental', 'Elemental',\n",
              "       'Royal Rumble', 'Royal Rumble', 'Royal Rumble', 'Royal Rumble',\n",
              "       'Royal Rumble', 'Royal Rumble', 'Royal Rumble', 'Royal Rumble',\n",
              "       'Royal Rumble', 'Royal Rumble', 'Royal Rumble', 'Royal Rumble',\n",
              "       'Royal Rumble', 'Royal Rumble', 'Royal Rumble', 'Royal Rumble',\n",
              "       'Royal Rumble', 'Royal Rumble', 'Royal Rumble', 'Royal Rumble',\n",
              "       'Royal Rumble', 'Royal Rumble', 'Royal Rumble', 'Royal Rumble',\n",
              "       'Royal Rumble', 'Royal Rumble', 'Royal Rumble', 'Royal Rumble',\n",
              "       'Royal Rumble', 'Royal Rumble', 'Royal Rumble', 'Royal Rumble',\n",
              "       'Royal Rumble', 'Royal Rumble', 'Royal Rumble', 'Royal Rumble',\n",
              "       'Royal Rumble', 'Royal Rumble', 'Royal Rumble', 'Royal Rumble',\n",
              "       'Royal Rumble', 'Royal Rumble', 'Royal Rumble', 'Royal Rumble',\n",
              "       'Royal Rumble', 'Royal Rumble', 'Royal Rumble', 'Royal Rumble',\n",
              "       'Royal Rumble', 'Royal Rumble', 'Royal Rumble', 'Royal Rumble',\n",
              "       'Royal Rumble', 'Royal Rumble', 'Royal Rumble', 'Royal Rumble',\n",
              "       'Royal Rumble', 'Royal Rumble', 'Royal Rumble', 'Royal Rumble',\n",
              "       'Royal Rumble', 'Royal Rumble', 'Royal Rumble', 'Royal Rumble',\n",
              "       'Royal Rumble', 'Royal Rumble', 'Royal Rumble', 'Royal Rumble',\n",
              "       'Royal Rumble'], dtype=object)"
            ]
          },
          "metadata": {
            "tags": []
          },
          "execution_count": 355
        }
      ]
    },
    {
      "cell_type": "code",
      "metadata": {
        "id": "Lfjy_3nB7r12"
      },
      "source": [
        "from sklearn.model_selection import train_test_split\n",
        "X_train, X_test,Y_train,Y_test=train_test_split(X,Y,random_state=0,test_size=0.3)"
      ],
      "execution_count": 356,
      "outputs": []
    },
    {
      "cell_type": "code",
      "metadata": {
        "colab": {
          "base_uri": "https://localhost:8080/"
        },
        "id": "Nw-mn3xh75hX",
        "outputId": "ea635a7c-4f68-468f-9836-98aab57a76db"
      },
      "source": [
        "from sklearn.svm import SVC\n",
        "classifier=SVC()\n",
        "classifier.fit(X_train,Y_train)"
      ],
      "execution_count": 357,
      "outputs": [
        {
          "output_type": "execute_result",
          "data": {
            "text/plain": [
              "SVC(C=1.0, break_ties=False, cache_size=200, class_weight=None, coef0=0.0,\n",
              "    decision_function_shape='ovr', degree=3, gamma='scale', kernel='rbf',\n",
              "    max_iter=-1, probability=False, random_state=None, shrinking=True,\n",
              "    tol=0.001, verbose=False)"
            ]
          },
          "metadata": {
            "tags": []
          },
          "execution_count": 357
        }
      ]
    },
    {
      "cell_type": "code",
      "metadata": {
        "id": "a0X3jWl58FrD"
      },
      "source": [
        "Y_pred=classifier.predict(X_test)"
      ],
      "execution_count": 358,
      "outputs": []
    },
    {
      "cell_type": "code",
      "metadata": {
        "id": "Botre6a086ZT"
      },
      "source": [
        "from sklearn.metrics import *\n",
        "cm = confusion_matrix(Y_test,Y_pred)\n",
        "asc = accuracy_score(Y_test,Y_pred)\n",
        "clr = classification_report(Y_test,Y_pred)"
      ],
      "execution_count": 359,
      "outputs": []
    },
    {
      "cell_type": "code",
      "metadata": {
        "colab": {
          "base_uri": "https://localhost:8080/"
        },
        "id": "1_AOmy4n9OCU",
        "outputId": "eb77b270-f29c-4abc-e4ea-70e7b219916e"
      },
      "source": [
        "print(\"Cnfusion_Matrix\")\n",
        "print(cm)"
      ],
      "execution_count": 360,
      "outputs": [
        {
          "output_type": "stream",
          "text": [
            "Cnfusion_Matrix\n",
            "[[21  0  0]\n",
            " [ 0 23  0]\n",
            " [ 0  0 22]]\n"
          ],
          "name": "stdout"
        }
      ]
    },
    {
      "cell_type": "code",
      "metadata": {
        "colab": {
          "base_uri": "https://localhost:8080/"
        },
        "id": "SsGel2dp9S7z",
        "outputId": "4bfb5174-ea67-49dd-df12-6d51fe862086"
      },
      "source": [
        "print(\"Accuracy Score\")\n",
        "print(asc)"
      ],
      "execution_count": 361,
      "outputs": [
        {
          "output_type": "stream",
          "text": [
            "Accuracy Score\n",
            "1.0\n"
          ],
          "name": "stdout"
        }
      ]
    },
    {
      "cell_type": "code",
      "metadata": {
        "colab": {
          "base_uri": "https://localhost:8080/"
        },
        "id": "9ricq7kW9XfZ",
        "outputId": "9cf43ccc-33c0-4063-81ad-23f6a2215554"
      },
      "source": [
        "print(\"Classification Report\")\n",
        "print(clr)"
      ],
      "execution_count": 362,
      "outputs": [
        {
          "output_type": "stream",
          "text": [
            "Classification Report\n",
            "              precision    recall  f1-score   support\n",
            "\n",
            "   Elemental       1.00      1.00      1.00        21\n",
            "Royal Rumble       1.00      1.00      1.00        23\n",
            "          WM       1.00      1.00      1.00        22\n",
            "\n",
            "    accuracy                           1.00        66\n",
            "   macro avg       1.00      1.00      1.00        66\n",
            "weighted avg       1.00      1.00      1.00        66\n",
            "\n"
          ],
          "name": "stdout"
        }
      ]
    }
  ]
}
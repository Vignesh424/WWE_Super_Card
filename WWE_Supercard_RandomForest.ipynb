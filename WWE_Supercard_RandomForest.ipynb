{
  "nbformat": 4,
  "nbformat_minor": 0,
  "metadata": {
    "colab": {
      "name": "WWE Supercard RandomForest.ipynb",
      "provenance": [],
      "authorship_tag": "ABX9TyPg1i/8xe2MVv+hdQdBBfyl",
      "include_colab_link": true
    },
    "kernelspec": {
      "name": "python3",
      "display_name": "Python 3"
    },
    "language_info": {
      "name": "python"
    }
  },
  "cells": [
    {
      "cell_type": "markdown",
      "metadata": {
        "id": "view-in-github",
        "colab_type": "text"
      },
      "source": [
        "<a href=\"https://colab.research.google.com/github/Vignesh424/WWE_Super_Card/blob/main/WWE_Supercard_RandomForest.ipynb\" target=\"_parent\"><img src=\"https://colab.research.google.com/assets/colab-badge.svg\" alt=\"Open In Colab\"/></a>"
      ]
    },
    {
      "cell_type": "code",
      "metadata": {
        "id": "9NBJ4bJQ1ueC"
      },
      "source": [
        "#import libraries\n",
        "import numpy as np\n",
        "import pandas as pd"
      ],
      "execution_count": 239,
      "outputs": []
    },
    {
      "cell_type": "code",
      "metadata": {
        "id": "r0vyZsle3FXh"
      },
      "source": [
        "#read_excel\n",
        "dataset=pd.read_excel('/content/WWE Super Card.xlsx')"
      ],
      "execution_count": 240,
      "outputs": []
    },
    {
      "cell_type": "code",
      "metadata": {
        "colab": {
          "base_uri": "https://localhost:8080/",
          "height": 204
        },
        "id": "jj04JRWg3Smz",
        "outputId": "afaf5ac8-89b2-409a-b2e3-853ddfde2235"
      },
      "source": [
        "#first 5 columns\n",
        "dataset.head()"
      ],
      "execution_count": 241,
      "outputs": [
        {
          "output_type": "execute_result",
          "data": {
            "text/html": [
              "<div>\n",
              "<style scoped>\n",
              "    .dataframe tbody tr th:only-of-type {\n",
              "        vertical-align: middle;\n",
              "    }\n",
              "\n",
              "    .dataframe tbody tr th {\n",
              "        vertical-align: top;\n",
              "    }\n",
              "\n",
              "    .dataframe thead th {\n",
              "        text-align: right;\n",
              "    }\n",
              "</style>\n",
              "<table border=\"1\" class=\"dataframe\">\n",
              "  <thead>\n",
              "    <tr style=\"text-align: right;\">\n",
              "      <th></th>\n",
              "      <th>Superstar</th>\n",
              "      <th>Gender</th>\n",
              "      <th>POW</th>\n",
              "      <th>TGH</th>\n",
              "      <th>SPD</th>\n",
              "      <th>CHA</th>\n",
              "      <th>Total</th>\n",
              "      <th>Group</th>\n",
              "    </tr>\n",
              "  </thead>\n",
              "  <tbody>\n",
              "    <tr>\n",
              "      <th>0</th>\n",
              "      <td>Adam Cole</td>\n",
              "      <td>Male</td>\n",
              "      <td>269.96</td>\n",
              "      <td>270.46</td>\n",
              "      <td>268.40</td>\n",
              "      <td>272.10</td>\n",
              "      <td>1080.92</td>\n",
              "      <td>WM</td>\n",
              "    </tr>\n",
              "    <tr>\n",
              "      <th>1</th>\n",
              "      <td>Akam</td>\n",
              "      <td>Male</td>\n",
              "      <td>269.85</td>\n",
              "      <td>268.93</td>\n",
              "      <td>265.62</td>\n",
              "      <td>265.29</td>\n",
              "      <td>1069.69</td>\n",
              "      <td>WM</td>\n",
              "    </tr>\n",
              "    <tr>\n",
              "      <th>2</th>\n",
              "      <td>Aleister Black</td>\n",
              "      <td>Male</td>\n",
              "      <td>269.03</td>\n",
              "      <td>271.20</td>\n",
              "      <td>269.62</td>\n",
              "      <td>267.33</td>\n",
              "      <td>1077.18</td>\n",
              "      <td>WM</td>\n",
              "    </tr>\n",
              "    <tr>\n",
              "      <th>3</th>\n",
              "      <td>Alexa Bliss</td>\n",
              "      <td>Female</td>\n",
              "      <td>268.08</td>\n",
              "      <td>265.62</td>\n",
              "      <td>269.55</td>\n",
              "      <td>267.10</td>\n",
              "      <td>1070.35</td>\n",
              "      <td>WM</td>\n",
              "    </tr>\n",
              "    <tr>\n",
              "      <th>4</th>\n",
              "      <td>Alexander Wolfe</td>\n",
              "      <td>Male</td>\n",
              "      <td>268.17</td>\n",
              "      <td>266.86</td>\n",
              "      <td>262.53</td>\n",
              "      <td>264.63</td>\n",
              "      <td>1062.19</td>\n",
              "      <td>WM</td>\n",
              "    </tr>\n",
              "  </tbody>\n",
              "</table>\n",
              "</div>"
            ],
            "text/plain": [
              "         Superstar  Gender     POW     TGH     SPD     CHA    Total Group\n",
              "0        Adam Cole    Male  269.96  270.46  268.40  272.10  1080.92    WM\n",
              "1             Akam    Male  269.85  268.93  265.62  265.29  1069.69    WM\n",
              "2   Aleister Black    Male  269.03  271.20  269.62  267.33  1077.18    WM\n",
              "3      Alexa Bliss  Female  268.08  265.62  269.55  267.10  1070.35    WM\n",
              "4  Alexander Wolfe    Male  268.17  266.86  262.53  264.63  1062.19    WM"
            ]
          },
          "metadata": {
            "tags": []
          },
          "execution_count": 241
        }
      ]
    },
    {
      "cell_type": "code",
      "metadata": {
        "colab": {
          "base_uri": "https://localhost:8080/"
        },
        "id": "u8AiPvLo3UNz",
        "outputId": "8d1dcdeb-6a75-41d7-f8da-80908ab36930"
      },
      "source": [
        "#shape of data\n",
        "dataset.shape"
      ],
      "execution_count": 242,
      "outputs": [
        {
          "output_type": "execute_result",
          "data": {
            "text/plain": [
              "(220, 8)"
            ]
          },
          "metadata": {
            "tags": []
          },
          "execution_count": 242
        }
      ]
    },
    {
      "cell_type": "code",
      "metadata": {
        "colab": {
          "base_uri": "https://localhost:8080/",
          "height": 297
        },
        "id": "y2qpEYqH3V6W",
        "outputId": "9e2c581a-cf84-45fa-e592-f667bd2f0908"
      },
      "source": [
        "#data description\n",
        "dataset.describe().round()"
      ],
      "execution_count": 243,
      "outputs": [
        {
          "output_type": "execute_result",
          "data": {
            "text/html": [
              "<div>\n",
              "<style scoped>\n",
              "    .dataframe tbody tr th:only-of-type {\n",
              "        vertical-align: middle;\n",
              "    }\n",
              "\n",
              "    .dataframe tbody tr th {\n",
              "        vertical-align: top;\n",
              "    }\n",
              "\n",
              "    .dataframe thead th {\n",
              "        text-align: right;\n",
              "    }\n",
              "</style>\n",
              "<table border=\"1\" class=\"dataframe\">\n",
              "  <thead>\n",
              "    <tr style=\"text-align: right;\">\n",
              "      <th></th>\n",
              "      <th>POW</th>\n",
              "      <th>TGH</th>\n",
              "      <th>SPD</th>\n",
              "      <th>CHA</th>\n",
              "      <th>Total</th>\n",
              "    </tr>\n",
              "  </thead>\n",
              "  <tbody>\n",
              "    <tr>\n",
              "      <th>count</th>\n",
              "      <td>220.0</td>\n",
              "      <td>220.0</td>\n",
              "      <td>220.0</td>\n",
              "      <td>220.0</td>\n",
              "      <td>220.0</td>\n",
              "    </tr>\n",
              "    <tr>\n",
              "      <th>mean</th>\n",
              "      <td>271.0</td>\n",
              "      <td>270.0</td>\n",
              "      <td>270.0</td>\n",
              "      <td>270.0</td>\n",
              "      <td>1081.0</td>\n",
              "    </tr>\n",
              "    <tr>\n",
              "      <th>std</th>\n",
              "      <td>64.0</td>\n",
              "      <td>64.0</td>\n",
              "      <td>65.0</td>\n",
              "      <td>64.0</td>\n",
              "      <td>257.0</td>\n",
              "    </tr>\n",
              "    <tr>\n",
              "      <th>min</th>\n",
              "      <td>182.0</td>\n",
              "      <td>179.0</td>\n",
              "      <td>180.0</td>\n",
              "      <td>178.0</td>\n",
              "      <td>727.0</td>\n",
              "    </tr>\n",
              "    <tr>\n",
              "      <th>25%</th>\n",
              "      <td>193.0</td>\n",
              "      <td>191.0</td>\n",
              "      <td>190.0</td>\n",
              "      <td>191.0</td>\n",
              "      <td>759.0</td>\n",
              "    </tr>\n",
              "    <tr>\n",
              "      <th>50%</th>\n",
              "      <td>270.0</td>\n",
              "      <td>270.0</td>\n",
              "      <td>269.0</td>\n",
              "      <td>269.0</td>\n",
              "      <td>1077.0</td>\n",
              "    </tr>\n",
              "    <tr>\n",
              "      <th>75%</th>\n",
              "      <td>344.0</td>\n",
              "      <td>344.0</td>\n",
              "      <td>343.0</td>\n",
              "      <td>344.0</td>\n",
              "      <td>1378.0</td>\n",
              "    </tr>\n",
              "    <tr>\n",
              "      <th>max</th>\n",
              "      <td>353.0</td>\n",
              "      <td>354.0</td>\n",
              "      <td>351.0</td>\n",
              "      <td>354.0</td>\n",
              "      <td>1400.0</td>\n",
              "    </tr>\n",
              "  </tbody>\n",
              "</table>\n",
              "</div>"
            ],
            "text/plain": [
              "         POW    TGH    SPD    CHA   Total\n",
              "count  220.0  220.0  220.0  220.0   220.0\n",
              "mean   271.0  270.0  270.0  270.0  1081.0\n",
              "std     64.0   64.0   65.0   64.0   257.0\n",
              "min    182.0  179.0  180.0  178.0   727.0\n",
              "25%    193.0  191.0  190.0  191.0   759.0\n",
              "50%    270.0  270.0  269.0  269.0  1077.0\n",
              "75%    344.0  344.0  343.0  344.0  1378.0\n",
              "max    353.0  354.0  351.0  354.0  1400.0"
            ]
          },
          "metadata": {
            "tags": []
          },
          "execution_count": 243
        }
      ]
    },
    {
      "cell_type": "code",
      "metadata": {
        "id": "NZrehq0O3YQj"
      },
      "source": [
        "# Preparing the data \n",
        "X=dataset.iloc[:,2:7].values\n",
        "Y=dataset.iloc[:,7].values"
      ],
      "execution_count": 244,
      "outputs": []
    },
    {
      "cell_type": "code",
      "metadata": {
        "colab": {
          "base_uri": "https://localhost:8080/"
        },
        "id": "yoWAWxhp3tm7",
        "outputId": "3cb68c93-3178-40a1-fa01-a25f4dde34a6"
      },
      "source": [
        "X"
      ],
      "execution_count": 245,
      "outputs": [
        {
          "output_type": "execute_result",
          "data": {
            "text/plain": [
              "array([[ 269.96,  270.46,  268.4 ,  272.1 , 1080.92],\n",
              "       [ 269.85,  268.93,  265.62,  265.29, 1069.69],\n",
              "       [ 269.03,  271.2 ,  269.62,  267.33, 1077.18],\n",
              "       ...,\n",
              "       [ 192.68,  185.47,  189.59,  188.56,  756.3 ],\n",
              "       [ 196.35,  197.89,  187.81,  188.94,  770.99],\n",
              "       [ 192.4 ,  189.85,  186.27,  187.79,  756.31]])"
            ]
          },
          "metadata": {
            "tags": []
          },
          "execution_count": 245
        }
      ]
    },
    {
      "cell_type": "code",
      "metadata": {
        "colab": {
          "base_uri": "https://localhost:8080/"
        },
        "id": "axixoRaK3yf8",
        "outputId": "b7127055-8bfa-4ab6-9a45-4e38b855b8b9"
      },
      "source": [
        "Y"
      ],
      "execution_count": 246,
      "outputs": [
        {
          "output_type": "execute_result",
          "data": {
            "text/plain": [
              "array(['WM', 'WM', 'WM', 'WM', 'WM', 'WM', 'WM', 'WM', 'WM', 'WM', 'WM',\n",
              "       'WM', 'WM', 'WM', 'WM', 'WM', 'WM', 'WM', 'WM', 'WM', 'WM', 'WM',\n",
              "       'WM', 'WM', 'WM', 'WM', 'WM', 'WM', 'WM', 'WM', 'WM', 'WM', 'WM',\n",
              "       'WM', 'WM', 'WM', 'WM', 'WM', 'WM', 'WM', 'WM', 'WM', 'WM', 'WM',\n",
              "       'WM', 'WM', 'WM', 'WM', 'WM', 'WM', 'WM', 'WM', 'WM', 'WM', 'WM',\n",
              "       'WM', 'WM', 'WM', 'WM', 'WM', 'WM', 'WM', 'WM', 'WM', 'WM', 'WM',\n",
              "       'WM', 'WM', 'WM', 'WM', 'WM', 'WM', 'WM', 'WM', 'WM', 'Elemental',\n",
              "       'Elemental', 'Elemental', 'Elemental', 'Elemental', 'Elemental',\n",
              "       'Elemental', 'Elemental', 'Elemental', 'Elemental', 'Elemental',\n",
              "       'Elemental', 'Elemental', 'Elemental', 'Elemental', 'Elemental',\n",
              "       'Elemental', 'Elemental', 'Elemental', 'Elemental', 'Elemental',\n",
              "       'Elemental', 'Elemental', 'Elemental', 'Elemental', 'Elemental',\n",
              "       'Elemental', 'Elemental', 'Elemental', 'Elemental', 'Elemental',\n",
              "       'Elemental', 'Elemental', 'Elemental', 'Elemental', 'Elemental',\n",
              "       'Elemental', 'Elemental', 'Elemental', 'Elemental', 'Elemental',\n",
              "       'Elemental', 'Elemental', 'Elemental', 'Elemental', 'Elemental',\n",
              "       'Elemental', 'Elemental', 'Elemental', 'Elemental', 'Elemental',\n",
              "       'Elemental', 'Elemental', 'Elemental', 'Elemental', 'Elemental',\n",
              "       'Elemental', 'Elemental', 'Elemental', 'Elemental', 'Elemental',\n",
              "       'Elemental', 'Elemental', 'Elemental', 'Elemental', 'Elemental',\n",
              "       'Elemental', 'Elemental', 'Elemental', 'Elemental', 'Elemental',\n",
              "       'Elemental', 'Elemental', 'Elemental', 'Elemental', 'Elemental',\n",
              "       'Royal Rumble', 'Royal Rumble', 'Royal Rumble', 'Royal Rumble',\n",
              "       'Royal Rumble', 'Royal Rumble', 'Royal Rumble', 'Royal Rumble',\n",
              "       'Royal Rumble', 'Royal Rumble', 'Royal Rumble', 'Royal Rumble',\n",
              "       'Royal Rumble', 'Royal Rumble', 'Royal Rumble', 'Royal Rumble',\n",
              "       'Royal Rumble', 'Royal Rumble', 'Royal Rumble', 'Royal Rumble',\n",
              "       'Royal Rumble', 'Royal Rumble', 'Royal Rumble', 'Royal Rumble',\n",
              "       'Royal Rumble', 'Royal Rumble', 'Royal Rumble', 'Royal Rumble',\n",
              "       'Royal Rumble', 'Royal Rumble', 'Royal Rumble', 'Royal Rumble',\n",
              "       'Royal Rumble', 'Royal Rumble', 'Royal Rumble', 'Royal Rumble',\n",
              "       'Royal Rumble', 'Royal Rumble', 'Royal Rumble', 'Royal Rumble',\n",
              "       'Royal Rumble', 'Royal Rumble', 'Royal Rumble', 'Royal Rumble',\n",
              "       'Royal Rumble', 'Royal Rumble', 'Royal Rumble', 'Royal Rumble',\n",
              "       'Royal Rumble', 'Royal Rumble', 'Royal Rumble', 'Royal Rumble',\n",
              "       'Royal Rumble', 'Royal Rumble', 'Royal Rumble', 'Royal Rumble',\n",
              "       'Royal Rumble', 'Royal Rumble', 'Royal Rumble', 'Royal Rumble',\n",
              "       'Royal Rumble', 'Royal Rumble', 'Royal Rumble', 'Royal Rumble',\n",
              "       'Royal Rumble', 'Royal Rumble', 'Royal Rumble', 'Royal Rumble',\n",
              "       'Royal Rumble'], dtype=object)"
            ]
          },
          "metadata": {
            "tags": []
          },
          "execution_count": 246
        }
      ]
    },
    {
      "cell_type": "markdown",
      "metadata": {
        "id": "Bp-_CUR-d9g5"
      },
      "source": [
        "**Training the Data**"
      ]
    },
    {
      "cell_type": "code",
      "metadata": {
        "id": "lO6atlFP3yyT"
      },
      "source": [
        "from sklearn.model_selection import train_test_split\n",
        "X_test, X_train, Y_test, Y_train = train_test_split(X, Y, test_size=0.3)"
      ],
      "execution_count": 247,
      "outputs": []
    },
    {
      "cell_type": "code",
      "metadata": {
        "colab": {
          "base_uri": "https://localhost:8080/"
        },
        "id": "WTRv3Gpm4cdh",
        "outputId": "90008948-06d5-4cd7-bc27-8f1b853fc77b"
      },
      "source": [
        "X_train.shape"
      ],
      "execution_count": 248,
      "outputs": [
        {
          "output_type": "execute_result",
          "data": {
            "text/plain": [
              "(66, 5)"
            ]
          },
          "metadata": {
            "tags": []
          },
          "execution_count": 248
        }
      ]
    },
    {
      "cell_type": "code",
      "metadata": {
        "colab": {
          "base_uri": "https://localhost:8080/"
        },
        "id": "b6g6sUI_4f3h",
        "outputId": "11f004ab-b2c4-4be8-c209-1072d0a7dcc5"
      },
      "source": [
        "\n",
        "X_test.shape"
      ],
      "execution_count": 249,
      "outputs": [
        {
          "output_type": "execute_result",
          "data": {
            "text/plain": [
              "(154, 5)"
            ]
          },
          "metadata": {
            "tags": []
          },
          "execution_count": 249
        }
      ]
    },
    {
      "cell_type": "code",
      "metadata": {
        "colab": {
          "base_uri": "https://localhost:8080/"
        },
        "id": "2u_3vumR4hCU",
        "outputId": "aefbde24-21ee-489b-98c2-0cc1ecb12cc7"
      },
      "source": [
        "Y_train.shape"
      ],
      "execution_count": 250,
      "outputs": [
        {
          "output_type": "execute_result",
          "data": {
            "text/plain": [
              "(66,)"
            ]
          },
          "metadata": {
            "tags": []
          },
          "execution_count": 250
        }
      ]
    },
    {
      "cell_type": "code",
      "metadata": {
        "colab": {
          "base_uri": "https://localhost:8080/"
        },
        "id": "e9kNVX8d4iOL",
        "outputId": "8396d429-ca92-4eda-8349-18394313f816"
      },
      "source": [
        "Y_test.shape"
      ],
      "execution_count": 251,
      "outputs": [
        {
          "output_type": "execute_result",
          "data": {
            "text/plain": [
              "(154,)"
            ]
          },
          "metadata": {
            "tags": []
          },
          "execution_count": 251
        }
      ]
    },
    {
      "cell_type": "markdown",
      "metadata": {
        "id": "SVIg1rLqeROr"
      },
      "source": [
        "**Use the Model Random Forest**"
      ]
    },
    {
      "cell_type": "code",
      "metadata": {
        "colab": {
          "base_uri": "https://localhost:8080/"
        },
        "id": "jQ_m5WE24jHG",
        "outputId": "af7cc9ea-6291-4a87-c219-884229796b44"
      },
      "source": [
        "from sklearn.ensemble import RandomForestClassifier\n",
        "classifier = RandomForestClassifier(n_estimators=300)\n",
        "classifier.fit(X_train, Y_train)"
      ],
      "execution_count": 252,
      "outputs": [
        {
          "output_type": "execute_result",
          "data": {
            "text/plain": [
              "RandomForestClassifier(bootstrap=True, ccp_alpha=0.0, class_weight=None,\n",
              "                       criterion='gini', max_depth=None, max_features='auto',\n",
              "                       max_leaf_nodes=None, max_samples=None,\n",
              "                       min_impurity_decrease=0.0, min_impurity_split=None,\n",
              "                       min_samples_leaf=1, min_samples_split=2,\n",
              "                       min_weight_fraction_leaf=0.0, n_estimators=300,\n",
              "                       n_jobs=None, oob_score=False, random_state=None,\n",
              "                       verbose=0, warm_start=False)"
            ]
          },
          "metadata": {
            "tags": []
          },
          "execution_count": 252
        }
      ]
    },
    {
      "cell_type": "markdown",
      "metadata": {
        "id": "QtqN9KJbea3F"
      },
      "source": [
        "**Making Predictions**"
      ]
    },
    {
      "cell_type": "code",
      "metadata": {
        "id": "Kh_qjxdA7Mx9"
      },
      "source": [
        "Y_pred=classifier.predict(X_test)"
      ],
      "execution_count": 253,
      "outputs": []
    },
    {
      "cell_type": "markdown",
      "metadata": {
        "id": "mXyjv702ekTP"
      },
      "source": [
        "**Testing the Algorithm**"
      ]
    },
    {
      "cell_type": "code",
      "metadata": {
        "id": "1vemEn2yZk2E"
      },
      "source": [
        "#classification_report, accuracy_score, confusion_matrix\n",
        "from sklearn.metrics import classification_report,accuracy_score,confusion_matrix\n",
        "confusion_matrix=confusion_matrix(Y_test,Y_pred)\n",
        "classification_report=classification_report(Y_test,Y_pred)\n",
        "accuracy_score=accuracy_score(Y_test,y_pred)"
      ],
      "execution_count": 254,
      "outputs": []
    },
    {
      "cell_type": "code",
      "metadata": {
        "colab": {
          "base_uri": "https://localhost:8080/"
        },
        "id": "LULb1U0RZ9m6",
        "outputId": "09ac692b-a156-4e19-cf10-d6334eacd716"
      },
      "source": [
        "print('Confusion Matrix')\n",
        "print(confusion_matrix)"
      ],
      "execution_count": 255,
      "outputs": [
        {
          "output_type": "stream",
          "text": [
            "Confusion Matrix\n",
            "[[52  0  0]\n",
            " [ 0 44  0]\n",
            " [ 0  0 58]]\n"
          ],
          "name": "stdout"
        }
      ]
    },
    {
      "cell_type": "code",
      "metadata": {
        "colab": {
          "base_uri": "https://localhost:8080/"
        },
        "id": "1-VIZq6GaRcA",
        "outputId": "a0cfe617-6fbe-4105-f21f-a12401262369"
      },
      "source": [
        "print('Accuracy')\n",
        "print(accuracy)"
      ],
      "execution_count": 256,
      "outputs": [
        {
          "output_type": "stream",
          "text": [
            "Accuracy\n",
            "1.0\n"
          ],
          "name": "stdout"
        }
      ]
    },
    {
      "cell_type": "code",
      "metadata": {
        "colab": {
          "base_uri": "https://localhost:8080/"
        },
        "id": "8SKctsWYaYq8",
        "outputId": "84954ff4-6837-43c7-fc86-86d6762f09ce"
      },
      "source": [
        "print('Classification Report')\n",
        "print(classification_report)"
      ],
      "execution_count": 257,
      "outputs": [
        {
          "output_type": "stream",
          "text": [
            "Classification Report\n",
            "              precision    recall  f1-score   support\n",
            "\n",
            "   Elemental       1.00      1.00      1.00        52\n",
            "Royal Rumble       1.00      1.00      1.00        44\n",
            "          WM       1.00      1.00      1.00        58\n",
            "\n",
            "    accuracy                           1.00       154\n",
            "   macro avg       1.00      1.00      1.00       154\n",
            "weighted avg       1.00      1.00      1.00       154\n",
            "\n"
          ],
          "name": "stdout"
        }
      ]
    }
  ]
}
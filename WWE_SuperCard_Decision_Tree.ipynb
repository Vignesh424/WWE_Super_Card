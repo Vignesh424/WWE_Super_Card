{
  "nbformat": 4,
  "nbformat_minor": 0,
  "metadata": {
    "colab": {
      "name": "WWE_SuperCard_Decision_Tree.ipynb",
      "provenance": [],
      "authorship_tag": "ABX9TyNEqvl9+62dIhD0tb1uAmJC",
      "include_colab_link": true
    },
    "kernelspec": {
      "name": "python3",
      "display_name": "Python 3"
    },
    "language_info": {
      "name": "python"
    }
  },
  "cells": [
    {
      "cell_type": "markdown",
      "metadata": {
        "id": "view-in-github",
        "colab_type": "text"
      },
      "source": [
        "<a href=\"https://colab.research.google.com/github/Vignesh424/WWE_Super_Card/blob/main/WWE_SuperCard_Decision_Tree.ipynb\" target=\"_parent\"><img src=\"https://colab.research.google.com/assets/colab-badge.svg\" alt=\"Open In Colab\"/></a>"
      ]
    },
    {
      "cell_type": "code",
      "metadata": {
        "id": "yue_lqC9hrux"
      },
      "source": [
        "#import libraries\n",
        "import numpy as np\n",
        "import pandas as pd"
      ],
      "execution_count": 23,
      "outputs": []
    },
    {
      "cell_type": "code",
      "metadata": {
        "id": "rw7CWahpiAA9"
      },
      "source": [
        "#read excel file\n",
        "data=pd.read_excel('/content/WWE Super Card.xlsx')"
      ],
      "execution_count": 24,
      "outputs": []
    },
    {
      "cell_type": "code",
      "metadata": {
        "colab": {
          "base_uri": "https://localhost:8080/",
          "height": 204
        },
        "id": "nn2uv1iziQJv",
        "outputId": "846b30db-199c-4d0c-f982-7e40ffac862e"
      },
      "source": [
        "#Show 5 columns\n",
        "data.head()"
      ],
      "execution_count": 25,
      "outputs": [
        {
          "output_type": "execute_result",
          "data": {
            "text/html": [
              "<div>\n",
              "<style scoped>\n",
              "    .dataframe tbody tr th:only-of-type {\n",
              "        vertical-align: middle;\n",
              "    }\n",
              "\n",
              "    .dataframe tbody tr th {\n",
              "        vertical-align: top;\n",
              "    }\n",
              "\n",
              "    .dataframe thead th {\n",
              "        text-align: right;\n",
              "    }\n",
              "</style>\n",
              "<table border=\"1\" class=\"dataframe\">\n",
              "  <thead>\n",
              "    <tr style=\"text-align: right;\">\n",
              "      <th></th>\n",
              "      <th>Superstar</th>\n",
              "      <th>Gender</th>\n",
              "      <th>POW</th>\n",
              "      <th>TGH</th>\n",
              "      <th>SPD</th>\n",
              "      <th>CHA</th>\n",
              "      <th>Total</th>\n",
              "      <th>Group</th>\n",
              "    </tr>\n",
              "  </thead>\n",
              "  <tbody>\n",
              "    <tr>\n",
              "      <th>0</th>\n",
              "      <td>Adam Cole</td>\n",
              "      <td>Male</td>\n",
              "      <td>269.96</td>\n",
              "      <td>270.46</td>\n",
              "      <td>268.40</td>\n",
              "      <td>272.10</td>\n",
              "      <td>1080.92</td>\n",
              "      <td>WM</td>\n",
              "    </tr>\n",
              "    <tr>\n",
              "      <th>1</th>\n",
              "      <td>Akam</td>\n",
              "      <td>Male</td>\n",
              "      <td>269.85</td>\n",
              "      <td>268.93</td>\n",
              "      <td>265.62</td>\n",
              "      <td>265.29</td>\n",
              "      <td>1069.69</td>\n",
              "      <td>WM</td>\n",
              "    </tr>\n",
              "    <tr>\n",
              "      <th>2</th>\n",
              "      <td>Aleister Black</td>\n",
              "      <td>Male</td>\n",
              "      <td>269.03</td>\n",
              "      <td>271.20</td>\n",
              "      <td>269.62</td>\n",
              "      <td>267.33</td>\n",
              "      <td>1077.18</td>\n",
              "      <td>WM</td>\n",
              "    </tr>\n",
              "    <tr>\n",
              "      <th>3</th>\n",
              "      <td>Alexa Bliss</td>\n",
              "      <td>Female</td>\n",
              "      <td>268.08</td>\n",
              "      <td>265.62</td>\n",
              "      <td>269.55</td>\n",
              "      <td>267.10</td>\n",
              "      <td>1070.35</td>\n",
              "      <td>WM</td>\n",
              "    </tr>\n",
              "    <tr>\n",
              "      <th>4</th>\n",
              "      <td>Alexander Wolfe</td>\n",
              "      <td>Male</td>\n",
              "      <td>268.17</td>\n",
              "      <td>266.86</td>\n",
              "      <td>262.53</td>\n",
              "      <td>264.63</td>\n",
              "      <td>1062.19</td>\n",
              "      <td>WM</td>\n",
              "    </tr>\n",
              "  </tbody>\n",
              "</table>\n",
              "</div>"
            ],
            "text/plain": [
              "         Superstar  Gender     POW     TGH     SPD     CHA    Total Group\n",
              "0        Adam Cole    Male  269.96  270.46  268.40  272.10  1080.92    WM\n",
              "1             Akam    Male  269.85  268.93  265.62  265.29  1069.69    WM\n",
              "2   Aleister Black    Male  269.03  271.20  269.62  267.33  1077.18    WM\n",
              "3      Alexa Bliss  Female  268.08  265.62  269.55  267.10  1070.35    WM\n",
              "4  Alexander Wolfe    Male  268.17  266.86  262.53  264.63  1062.19    WM"
            ]
          },
          "metadata": {
            "tags": []
          },
          "execution_count": 25
        }
      ]
    },
    {
      "cell_type": "code",
      "metadata": {
        "colab": {
          "base_uri": "https://localhost:8080/",
          "height": 297
        },
        "id": "coU2Pwe2iSJF",
        "outputId": "5b46a9a6-937f-49df-d650-0abba68bc7b0"
      },
      "source": [
        "#Description of Data\n",
        "data.describe().round()"
      ],
      "execution_count": 26,
      "outputs": [
        {
          "output_type": "execute_result",
          "data": {
            "text/html": [
              "<div>\n",
              "<style scoped>\n",
              "    .dataframe tbody tr th:only-of-type {\n",
              "        vertical-align: middle;\n",
              "    }\n",
              "\n",
              "    .dataframe tbody tr th {\n",
              "        vertical-align: top;\n",
              "    }\n",
              "\n",
              "    .dataframe thead th {\n",
              "        text-align: right;\n",
              "    }\n",
              "</style>\n",
              "<table border=\"1\" class=\"dataframe\">\n",
              "  <thead>\n",
              "    <tr style=\"text-align: right;\">\n",
              "      <th></th>\n",
              "      <th>POW</th>\n",
              "      <th>TGH</th>\n",
              "      <th>SPD</th>\n",
              "      <th>CHA</th>\n",
              "      <th>Total</th>\n",
              "    </tr>\n",
              "  </thead>\n",
              "  <tbody>\n",
              "    <tr>\n",
              "      <th>count</th>\n",
              "      <td>220.0</td>\n",
              "      <td>220.0</td>\n",
              "      <td>220.0</td>\n",
              "      <td>220.0</td>\n",
              "      <td>220.0</td>\n",
              "    </tr>\n",
              "    <tr>\n",
              "      <th>mean</th>\n",
              "      <td>271.0</td>\n",
              "      <td>270.0</td>\n",
              "      <td>270.0</td>\n",
              "      <td>270.0</td>\n",
              "      <td>1081.0</td>\n",
              "    </tr>\n",
              "    <tr>\n",
              "      <th>std</th>\n",
              "      <td>64.0</td>\n",
              "      <td>64.0</td>\n",
              "      <td>65.0</td>\n",
              "      <td>64.0</td>\n",
              "      <td>257.0</td>\n",
              "    </tr>\n",
              "    <tr>\n",
              "      <th>min</th>\n",
              "      <td>182.0</td>\n",
              "      <td>179.0</td>\n",
              "      <td>180.0</td>\n",
              "      <td>178.0</td>\n",
              "      <td>727.0</td>\n",
              "    </tr>\n",
              "    <tr>\n",
              "      <th>25%</th>\n",
              "      <td>193.0</td>\n",
              "      <td>191.0</td>\n",
              "      <td>190.0</td>\n",
              "      <td>191.0</td>\n",
              "      <td>759.0</td>\n",
              "    </tr>\n",
              "    <tr>\n",
              "      <th>50%</th>\n",
              "      <td>270.0</td>\n",
              "      <td>270.0</td>\n",
              "      <td>269.0</td>\n",
              "      <td>269.0</td>\n",
              "      <td>1077.0</td>\n",
              "    </tr>\n",
              "    <tr>\n",
              "      <th>75%</th>\n",
              "      <td>344.0</td>\n",
              "      <td>344.0</td>\n",
              "      <td>343.0</td>\n",
              "      <td>344.0</td>\n",
              "      <td>1378.0</td>\n",
              "    </tr>\n",
              "    <tr>\n",
              "      <th>max</th>\n",
              "      <td>353.0</td>\n",
              "      <td>354.0</td>\n",
              "      <td>351.0</td>\n",
              "      <td>354.0</td>\n",
              "      <td>1400.0</td>\n",
              "    </tr>\n",
              "  </tbody>\n",
              "</table>\n",
              "</div>"
            ],
            "text/plain": [
              "         POW    TGH    SPD    CHA   Total\n",
              "count  220.0  220.0  220.0  220.0   220.0\n",
              "mean   271.0  270.0  270.0  270.0  1081.0\n",
              "std     64.0   64.0   65.0   64.0   257.0\n",
              "min    182.0  179.0  180.0  178.0   727.0\n",
              "25%    193.0  191.0  190.0  191.0   759.0\n",
              "50%    270.0  270.0  269.0  269.0  1077.0\n",
              "75%    344.0  344.0  343.0  344.0  1378.0\n",
              "max    353.0  354.0  351.0  354.0  1400.0"
            ]
          },
          "metadata": {
            "tags": []
          },
          "execution_count": 26
        }
      ]
    },
    {
      "cell_type": "code",
      "metadata": {
        "colab": {
          "base_uri": "https://localhost:8080/"
        },
        "id": "TT8O4sl-iUM2",
        "outputId": "514a4e75-147c-42aa-8e0b-92661abdb4b0"
      },
      "source": [
        "#Shape of Data\n",
        "data.shape"
      ],
      "execution_count": 27,
      "outputs": [
        {
          "output_type": "execute_result",
          "data": {
            "text/plain": [
              "(220, 8)"
            ]
          },
          "metadata": {
            "tags": []
          },
          "execution_count": 27
        }
      ]
    },
    {
      "cell_type": "markdown",
      "metadata": {
        "id": "CIzp5rylkaHF"
      },
      "source": [
        "**Data Preparation**"
      ]
    },
    {
      "cell_type": "code",
      "metadata": {
        "id": "BhAvZ1csiXT5"
      },
      "source": [
        "X=data.iloc[:,2:7].values\n",
        "Y=data.iloc[:,7].values"
      ],
      "execution_count": 28,
      "outputs": []
    },
    {
      "cell_type": "code",
      "metadata": {
        "colab": {
          "base_uri": "https://localhost:8080/"
        },
        "id": "bef9gyxWijIW",
        "outputId": "77e57daa-3b5a-4d43-a7a0-3780984e32bb"
      },
      "source": [
        "X"
      ],
      "execution_count": 29,
      "outputs": [
        {
          "output_type": "execute_result",
          "data": {
            "text/plain": [
              "array([[ 269.96,  270.46,  268.4 ,  272.1 , 1080.92],\n",
              "       [ 269.85,  268.93,  265.62,  265.29, 1069.69],\n",
              "       [ 269.03,  271.2 ,  269.62,  267.33, 1077.18],\n",
              "       ...,\n",
              "       [ 192.68,  185.47,  189.59,  188.56,  756.3 ],\n",
              "       [ 196.35,  197.89,  187.81,  188.94,  770.99],\n",
              "       [ 192.4 ,  189.85,  186.27,  187.79,  756.31]])"
            ]
          },
          "metadata": {
            "tags": []
          },
          "execution_count": 29
        }
      ]
    },
    {
      "cell_type": "code",
      "metadata": {
        "colab": {
          "base_uri": "https://localhost:8080/"
        },
        "id": "hrkQGpihij0O",
        "outputId": "680aa119-edbc-49e9-8c8e-88015c23d7bd"
      },
      "source": [
        "Y"
      ],
      "execution_count": 30,
      "outputs": [
        {
          "output_type": "execute_result",
          "data": {
            "text/plain": [
              "array(['WM', 'WM', 'WM', 'WM', 'WM', 'WM', 'WM', 'WM', 'WM', 'WM', 'WM',\n",
              "       'WM', 'WM', 'WM', 'WM', 'WM', 'WM', 'WM', 'WM', 'WM', 'WM', 'WM',\n",
              "       'WM', 'WM', 'WM', 'WM', 'WM', 'WM', 'WM', 'WM', 'WM', 'WM', 'WM',\n",
              "       'WM', 'WM', 'WM', 'WM', 'WM', 'WM', 'WM', 'WM', 'WM', 'WM', 'WM',\n",
              "       'WM', 'WM', 'WM', 'WM', 'WM', 'WM', 'WM', 'WM', 'WM', 'WM', 'WM',\n",
              "       'WM', 'WM', 'WM', 'WM', 'WM', 'WM', 'WM', 'WM', 'WM', 'WM', 'WM',\n",
              "       'WM', 'WM', 'WM', 'WM', 'WM', 'WM', 'WM', 'WM', 'WM', 'Elemental',\n",
              "       'Elemental', 'Elemental', 'Elemental', 'Elemental', 'Elemental',\n",
              "       'Elemental', 'Elemental', 'Elemental', 'Elemental', 'Elemental',\n",
              "       'Elemental', 'Elemental', 'Elemental', 'Elemental', 'Elemental',\n",
              "       'Elemental', 'Elemental', 'Elemental', 'Elemental', 'Elemental',\n",
              "       'Elemental', 'Elemental', 'Elemental', 'Elemental', 'Elemental',\n",
              "       'Elemental', 'Elemental', 'Elemental', 'Elemental', 'Elemental',\n",
              "       'Elemental', 'Elemental', 'Elemental', 'Elemental', 'Elemental',\n",
              "       'Elemental', 'Elemental', 'Elemental', 'Elemental', 'Elemental',\n",
              "       'Elemental', 'Elemental', 'Elemental', 'Elemental', 'Elemental',\n",
              "       'Elemental', 'Elemental', 'Elemental', 'Elemental', 'Elemental',\n",
              "       'Elemental', 'Elemental', 'Elemental', 'Elemental', 'Elemental',\n",
              "       'Elemental', 'Elemental', 'Elemental', 'Elemental', 'Elemental',\n",
              "       'Elemental', 'Elemental', 'Elemental', 'Elemental', 'Elemental',\n",
              "       'Elemental', 'Elemental', 'Elemental', 'Elemental', 'Elemental',\n",
              "       'Elemental', 'Elemental', 'Elemental', 'Elemental', 'Elemental',\n",
              "       'Royal Rumble', 'Royal Rumble', 'Royal Rumble', 'Royal Rumble',\n",
              "       'Royal Rumble', 'Royal Rumble', 'Royal Rumble', 'Royal Rumble',\n",
              "       'Royal Rumble', 'Royal Rumble', 'Royal Rumble', 'Royal Rumble',\n",
              "       'Royal Rumble', 'Royal Rumble', 'Royal Rumble', 'Royal Rumble',\n",
              "       'Royal Rumble', 'Royal Rumble', 'Royal Rumble', 'Royal Rumble',\n",
              "       'Royal Rumble', 'Royal Rumble', 'Royal Rumble', 'Royal Rumble',\n",
              "       'Royal Rumble', 'Royal Rumble', 'Royal Rumble', 'Royal Rumble',\n",
              "       'Royal Rumble', 'Royal Rumble', 'Royal Rumble', 'Royal Rumble',\n",
              "       'Royal Rumble', 'Royal Rumble', 'Royal Rumble', 'Royal Rumble',\n",
              "       'Royal Rumble', 'Royal Rumble', 'Royal Rumble', 'Royal Rumble',\n",
              "       'Royal Rumble', 'Royal Rumble', 'Royal Rumble', 'Royal Rumble',\n",
              "       'Royal Rumble', 'Royal Rumble', 'Royal Rumble', 'Royal Rumble',\n",
              "       'Royal Rumble', 'Royal Rumble', 'Royal Rumble', 'Royal Rumble',\n",
              "       'Royal Rumble', 'Royal Rumble', 'Royal Rumble', 'Royal Rumble',\n",
              "       'Royal Rumble', 'Royal Rumble', 'Royal Rumble', 'Royal Rumble',\n",
              "       'Royal Rumble', 'Royal Rumble', 'Royal Rumble', 'Royal Rumble',\n",
              "       'Royal Rumble', 'Royal Rumble', 'Royal Rumble', 'Royal Rumble',\n",
              "       'Royal Rumble'], dtype=object)"
            ]
          },
          "metadata": {
            "tags": []
          },
          "execution_count": 30
        }
      ]
    },
    {
      "cell_type": "markdown",
      "metadata": {
        "id": "tSaFT0L5ke-j"
      },
      "source": [
        "**Training the Data**"
      ]
    },
    {
      "cell_type": "code",
      "metadata": {
        "id": "PpqjYOVyiosO"
      },
      "source": [
        "from sklearn.model_selection import train_test_split\n",
        "X_train, X_test,Y_train, Y_test = train_test_split(X,Y,test_size=0.3)"
      ],
      "execution_count": 31,
      "outputs": []
    },
    {
      "cell_type": "markdown",
      "metadata": {
        "id": "Qux8c21SkiQp"
      },
      "source": [
        "**Choosing the DT Model**"
      ]
    },
    {
      "cell_type": "code",
      "metadata": {
        "colab": {
          "base_uri": "https://localhost:8080/"
        },
        "id": "r5VRPg4oi7Kz",
        "outputId": "41dbbffb-9417-4a49-ed06-773f894324fb"
      },
      "source": [
        "from sklearn.tree import DecisionTreeClassifier\n",
        "classifier=DecisionTreeClassifier()\n",
        "classifier.fit(X_train, Y_train)"
      ],
      "execution_count": 32,
      "outputs": [
        {
          "output_type": "execute_result",
          "data": {
            "text/plain": [
              "DecisionTreeClassifier(ccp_alpha=0.0, class_weight=None, criterion='gini',\n",
              "                       max_depth=None, max_features=None, max_leaf_nodes=None,\n",
              "                       min_impurity_decrease=0.0, min_impurity_split=None,\n",
              "                       min_samples_leaf=1, min_samples_split=2,\n",
              "                       min_weight_fraction_leaf=0.0, presort='deprecated',\n",
              "                       random_state=None, splitter='best')"
            ]
          },
          "metadata": {
            "tags": []
          },
          "execution_count": 32
        }
      ]
    },
    {
      "cell_type": "markdown",
      "metadata": {
        "id": "4gcLfG62kmnL"
      },
      "source": [
        "**Prediction Making**"
      ]
    },
    {
      "cell_type": "code",
      "metadata": {
        "id": "2efEUlUbjJmy"
      },
      "source": [
        "Y_pred=classifier.predict(X_test)"
      ],
      "execution_count": 33,
      "outputs": []
    },
    {
      "cell_type": "markdown",
      "metadata": {
        "id": "W-sJJJSJkp68"
      },
      "source": [
        "**Testing and Evaluating**"
      ]
    },
    {
      "cell_type": "code",
      "metadata": {
        "id": "u8jEpAn1jUvF"
      },
      "source": [
        "from sklearn.metrics import*\n",
        "confusion_matrix=confusion_matrix(Y_test, Y_pred)\n",
        "classification_report=classification_report(Y_test, Y_pred)\n",
        "accuracy_score=accuracy_score(Y_test, Y_pred)"
      ],
      "execution_count": 34,
      "outputs": []
    },
    {
      "cell_type": "code",
      "metadata": {
        "colab": {
          "base_uri": "https://localhost:8080/"
        },
        "id": "mPnSHkDbj0xE",
        "outputId": "76a7d069-9229-40e1-f908-a5992f27c160"
      },
      "source": [
        "print(\"Confusion Matrix\")\n",
        "print(confusion_matrix)"
      ],
      "execution_count": 35,
      "outputs": [
        {
          "output_type": "stream",
          "text": [
            "Confusion Matrix\n",
            "[[25  0  0]\n",
            " [ 0 18  0]\n",
            " [ 0  0 23]]\n"
          ],
          "name": "stdout"
        }
      ]
    },
    {
      "cell_type": "code",
      "metadata": {
        "colab": {
          "base_uri": "https://localhost:8080/"
        },
        "id": "nv640xtej6of",
        "outputId": "1bc79ce3-b407-4ee8-c07d-d72634812ca0"
      },
      "source": [
        "print(\"Classification Report\")\n",
        "print(classification_report)"
      ],
      "execution_count": 36,
      "outputs": [
        {
          "output_type": "stream",
          "text": [
            "Classification Report\n",
            "              precision    recall  f1-score   support\n",
            "\n",
            "   Elemental       1.00      1.00      1.00        25\n",
            "Royal Rumble       1.00      1.00      1.00        18\n",
            "          WM       1.00      1.00      1.00        23\n",
            "\n",
            "    accuracy                           1.00        66\n",
            "   macro avg       1.00      1.00      1.00        66\n",
            "weighted avg       1.00      1.00      1.00        66\n",
            "\n"
          ],
          "name": "stdout"
        }
      ]
    },
    {
      "cell_type": "code",
      "metadata": {
        "colab": {
          "base_uri": "https://localhost:8080/"
        },
        "id": "jR7Lvy4zkAEu",
        "outputId": "189299d0-4a00-4350-c872-283d3370c899"
      },
      "source": [
        "print(\"Accuracy_score\")\n",
        "print(accuracy_score)"
      ],
      "execution_count": 37,
      "outputs": [
        {
          "output_type": "stream",
          "text": [
            "Accuracy_score\n",
            "1.0\n"
          ],
          "name": "stdout"
        }
      ]
    }
  ]
}